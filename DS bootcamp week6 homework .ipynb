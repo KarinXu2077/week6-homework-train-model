{
 "cells": [
  {
   "cell_type": "code",
   "execution_count": 2,
   "id": "6a4b62e3",
   "metadata": {},
   "outputs": [],
   "source": [
    "import pandas as pd\n",
    "from sklearn.model_selection import train_test_split\n",
    "from sklearn.linear_model import LinearRegression, Ridge, Lasso\n",
    "from sklearn.metrics import mean_absolute_error, mean_squared_error\n",
    "from sklearn.preprocessing import StandardScaler, OneHotEncoder\n",
    "from sklearn.compose import ColumnTransformer\n",
    "from sklearn.pipeline import Pipeline\n",
    "from sklearn.impute import SimpleImputer"
   ]
  },
  {
   "cell_type": "code",
   "execution_count": 8,
   "id": "a7998e21",
   "metadata": {},
   "outputs": [
    {
     "name": "stdout",
     "output_type": "stream",
     "text": [
      "Index(['id', 'timestamp', 'country', 'employment_status', 'job_title',\n",
      "       'job_years', 'is_manager', 'hours_per_week',\n",
      "       'telecommute_days_per_week', 'education',\n",
      "       'is_education_computer_related', 'certifications', 'salary'],\n",
      "      dtype='object')\n",
      "max salary: 10625.0\n",
      "min salary: 3622.0\n",
      "range of salary: 7003.0\n",
      "Linear Regression MAE: 877.2343520345843\n",
      "Linear Regression MSE: 1381738.0343896605\n"
     ]
    }
   ],
   "source": [
    "df = pd.read_csv('C:/Users/xy200/OneDrive/Desktop/24sping/ds bootcamp/homework6/employee.csv')\n",
    "print(df.columns)\n",
    "\n",
    "# print 3 info to tell the accuracy of model, use later\n",
    "max_salary = df['salary'].max()\n",
    "min_salary = df['salary'].min()\n",
    "salary_range = max_salary - min_salary\n",
    "\n",
    "print(f\"max salary: {max_salary}\")\n",
    "print(f\"min salary: {min_salary}\")\n",
    "print(f\"range of salary: {salary_range}\")\n",
    "\n",
    "# Define the preprocessing for the categorical columns\n",
    "categorical_features = ['country', 'employment_status', 'job_title', 'is_manager', 'education', \n",
    "                        'is_education_computer_related', 'certifications']\n",
    "categorical_transformer = Pipeline(steps=[\n",
    "    ('imputer', SimpleImputer(strategy='constant', fill_value='missing')),\n",
    "    ('onehot', OneHotEncoder(handle_unknown='ignore'))\n",
    "])\n",
    "\n",
    "# Define the preprocessing for the numerical features\n",
    "numeric_features = ['job_years', 'hours_per_week', 'telecommute_days_per_week']\n",
    "numeric_transformer = Pipeline(steps=[\n",
    "    ('imputer', SimpleImputer(strategy='mean')),\n",
    "    ('scaler', StandardScaler())\n",
    "])\n",
    "\n",
    "# Combine preprocessing for categorical and numerical features\n",
    "preprocessor = ColumnTransformer(\n",
    "    transformers=[\n",
    "        ('num', numeric_transformer, numeric_features),\n",
    "        ('cat', categorical_transformer, categorical_features)\n",
    "    ])\n",
    "\n",
    "# Create the preprocessing and training pipeline for linear regression\n",
    "pipeline_lr = Pipeline(steps=[('preprocessor', preprocessor),\n",
    "                              ('regressor', LinearRegression())])\n",
    "\n",
    "# define features and target variable, assuming 'salary' I want to predict\n",
    "features = df.drop('salary', axis=1)\n",
    "target = df['salary']\n",
    "\n",
    "# Split the data into training and test sets\n",
    "# I process small dataset, so use 30% data for test, not 20%, so set up test_size = 0.3\n",
    "X_train, X_test, y_train, y_test = train_test_split(features, target, test_size=0.3, random_state=0)\n",
    "\n",
    "# Fit the pipeline with the training data\n",
    "pipeline_lr.fit(X_train, y_train)\n",
    "\n",
    "# Predict the test data\n",
    "y_pred = pipeline_lr.predict(X_test)\n",
    "\n",
    "# Compute the evaluation metrics\n",
    "mae = mean_absolute_error(y_test, y_pred)\n",
    "mse = mean_squared_error(y_test, y_pred)\n",
    "\n",
    "print(f\"Linear Regression MAE: {mae}\")\n",
    "print(f\"Linear Regression MSE: {mse}\")"
   ]
  },
  {
   "cell_type": "code",
   "execution_count": 9,
   "id": "08b318fe",
   "metadata": {},
   "outputs": [
    {
     "name": "stdout",
     "output_type": "stream",
     "text": [
      "Ridge Regression MAE: 871.5186719062051\n",
      "Ridge Regression MSE: 1363719.2100053956\n",
      "Lasso Regression MAE: 859.9537354716244\n",
      "Lasso Regression MSE: 1339847.0283128652\n"
     ]
    }
   ],
   "source": [
    "# To use Ridge or Lasso, replace LinearRegression() in the pipeline with Ridge() or Lasso()\n",
    "# For example:\n",
    "pipeline_ridge = Pipeline(steps=[('preprocessor', preprocessor),\n",
    "                                 ('regressor', Ridge())])\n",
    "\n",
    "pipeline_lasso = Pipeline(steps=[('preprocessor', preprocessor),\n",
    "                                 ('regressor', Lasso())])\n",
    "\n",
    "# Fit and predict with Ridge\n",
    "pipeline_ridge.fit(X_train, y_train)\n",
    "y_pred_ridge = pipeline_ridge.predict(X_test)\n",
    "\n",
    "# Compute the evaluation metrics for Ridge\n",
    "mae_ridge = mean_absolute_error(y_test, y_pred_ridge)\n",
    "mse_ridge = mean_squared_error(y_test, y_pred_ridge)\n",
    "\n",
    "# Fit and predict with Lasso\n",
    "pipeline_lasso.fit(X_train, y_train)\n",
    "y_pred_lasso = pipeline_lasso.predict(X_test)\n",
    "\n",
    "# Compute the evaluation metrics for Lasso\n",
    "mae_lasso = mean_absolute_error(y_test, y_pred_lasso)\n",
    "mse_lasso = mean_squared_error(y_test, y_pred_lasso)\n",
    "\n",
    "print(f\"Ridge Regression MAE: {mae_ridge}\")\n",
    "print(f\"Ridge Regression MSE: {mse_ridge}\")\n",
    "print(f\"Lasso Regression MAE: {mae_lasso}\")\n",
    "print(f\"Lasso Regression MSE: {mse_lasso}\")"
   ]
  },
  {
   "cell_type": "markdown",
   "id": "d449722a",
   "metadata": {},
   "source": [
    "Lasso regression MAE is the lowest, it's relatively the most accurate one\n",
    "For Q3, the ridge regression and lasso regression perform better than linear model."
   ]
  },
  {
   "cell_type": "code",
   "execution_count": null,
   "id": "3edb90a1",
   "metadata": {},
   "outputs": [],
   "source": []
  }
 ],
 "metadata": {
  "kernelspec": {
   "display_name": "Python 3 (ipykernel)",
   "language": "python",
   "name": "python3"
  },
  "language_info": {
   "codemirror_mode": {
    "name": "ipython",
    "version": 3
   },
   "file_extension": ".py",
   "mimetype": "text/x-python",
   "name": "python",
   "nbconvert_exporter": "python",
   "pygments_lexer": "ipython3",
   "version": "3.9.13"
  }
 },
 "nbformat": 4,
 "nbformat_minor": 5
}
